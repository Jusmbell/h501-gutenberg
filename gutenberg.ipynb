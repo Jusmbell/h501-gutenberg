{
 "cells": [
  {
   "cell_type": "code",
   "execution_count": 6,
   "id": "ca9501da",
   "metadata": {},
   "outputs": [],
   "source": [
    "import pandas as pd\n",
    "import seaborn as sns\n",
    "\n",
    "BASE = 'https://raw.githubusercontent.com/rfordatascience/tidytuesday/master/data/2025/2025-06-03/'\n",
    "\n",
    "authors   = pd.read_csv(BASE + 'gutenberg_authors.csv')\n",
    "languages = pd.read_csv(BASE + 'gutenberg_languages.csv')\n",
    "metadata  = pd.read_csv(BASE + 'gutenberg_metadata.csv')"
   ]
  },
  {
   "cell_type": "code",
   "execution_count": 2,
   "id": "b704f2db",
   "metadata": {},
   "outputs": [
    {
     "name": "stdout",
     "output_type": "stream",
     "text": [
      "authors columns: ['gutenberg_author_id', 'author', 'alias', 'birthdate', 'deathdate', 'wikipedia', 'aliases']\n",
      "languages columns: ['gutenberg_id', 'language', 'total_languages']\n",
      "metadata columns: ['gutenberg_id', 'title', 'author', 'gutenberg_author_id', 'language', 'gutenberg_bookshelf', 'rights', 'has_text']\n"
     ]
    }
   ],
   "source": [
    "# Check columns for debugging\n",
    "print('authors columns:', authors.columns.tolist())\n",
    "print('languages columns:', languages.columns.tolist())\n",
    "print('metadata columns:', metadata.columns.tolist())"
   ]
  },
  {
   "cell_type": "code",
   "execution_count": null,
   "id": "bd7f9abb",
   "metadata": {},
   "outputs": [],
   "source": [
    "# Merge authors and metadata on gutenberg_author_id\n",
    "df = authors.merge(metadata, on='gutenberg_author_id', how='left')\n",
    "# Merge with languages on gutenberg_id\n",
    "df = df.merge(languages, on='gutenberg_id', how='left')\n",
    "\n",
    "# Rename columns to canonical names\n",
    "df = df.rename(columns={\n",
    "    'author_x': 'author',\n",
    "    'author_name': 'author',\n",
    "    'author_alias': 'alias',\n",
    "    'language_x': 'language',\n",
    "    'language_y': 'language',\n",
    "    'birth': 'birth_year',\n",
    "    'birthdate': 'birth_year'\n",
    "})\n",
    "\n",
    "# Fill missing columns if needed\n",
    "for col in ['author', 'alias', 'language', 'birth_year']:\n",
    "    if col not in df.columns:\n",
    "        df[col] = None\n",
    "\n",
    "# Display only the columns that exist\n",
    "cols = [c for c in ['author', 'alias', 'language'] if c in df.columns]\n",
    "df[cols].head()"
   ]
  },
  {
   "cell_type": "code",
   "execution_count": null,
   "id": "a55ec2b2",
   "metadata": {},
   "outputs": [],
   "source": []
  }
 ],
 "metadata": {
  "kernelspec": {
   "display_name": "base",
   "language": "python",
   "name": "python3"
  },
  "language_info": {
   "codemirror_mode": {
    "name": "ipython",
    "version": 3
   },
   "file_extension": ".py",
   "mimetype": "text/x-python",
   "name": "python",
   "nbconvert_exporter": "python",
   "pygments_lexer": "ipython3",
   "version": "3.12.4"
  }
 },
 "nbformat": 4,
 "nbformat_minor": 5
}
